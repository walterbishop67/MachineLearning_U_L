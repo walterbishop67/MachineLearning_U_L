{
 "cells": [
  {
   "cell_type": "code",
   "execution_count": 1,
   "id": "c1e2ca46",
   "metadata": {},
   "outputs": [],
   "source": [
    "import numpy as np\n",
    "import pandas as pd\n",
    "from sklearn.svm import SVR\n",
    "from sklearn.metrics import r2_score\n",
    "from sklearn.tree import DecisionTreeRegressor\n",
    "from sklearn.linear_model import LinearRegression\n",
    "from sklearn.ensemble import RandomForestRegressor\n",
    "from sklearn.model_selection import train_test_split\n",
    "from sklearn.preprocessing import PolynomialFeatures, StandardScaler\n",
    "\n",
    "df = pd.read_csv(r\"C:\\Users\\umut3\\PycharmProjects\\MlSelectionREG\\Data.csv\")"
   ]
  },
  {
   "cell_type": "code",
   "execution_count": 2,
   "id": "7d85f405",
   "metadata": {},
   "outputs": [],
   "source": [
    "X = df.iloc[:, :-1].values\n",
    "y = df.iloc[:, 4:].values"
   ]
  },
  {
   "cell_type": "code",
   "execution_count": 3,
   "id": "18a359a1",
   "metadata": {},
   "outputs": [],
   "source": [
    "X_train, X_test, y_train, y_test = train_test_split(X, y, test_size=.2, random_state=0)"
   ]
  },
  {
   "cell_type": "code",
   "execution_count": 4,
   "id": "90ed7d6c",
   "metadata": {},
   "outputs": [
    {
     "name": "stdout",
     "output_type": "stream",
     "text": [
      "[[431.23       431.42761597]\n",
      " [460.01       458.56124622]\n",
      " [461.14       462.75264705]\n",
      " ...\n",
      " [473.26       469.51835895]\n",
      " [438.         442.41759454]\n",
      " [463.28       461.88279939]]\n"
     ]
    },
    {
     "data": {
      "text/plain": [
       "0.9325315554761303"
      ]
     },
     "execution_count": 4,
     "metadata": {},
     "output_type": "execute_result"
    }
   ],
   "source": [
    "# Multi Linear Regression\n",
    "regressor = LinearRegression()\n",
    "regressor.fit(X_train, y_train)\n",
    "\n",
    "y_pred = regressor.predict(X_test)\n",
    "print(np.concatenate((y_test.reshape(len(y_test), 1), y_pred.reshape(len(y_pred), 1)), 1))\n",
    "\n",
    "r2_score(y_test, y_pred)"
   ]
  },
  {
   "cell_type": "code",
   "execution_count": 5,
   "id": "c4e8845d",
   "metadata": {},
   "outputs": [
    {
     "name": "stdout",
     "output_type": "stream",
     "text": [
      "[[431.23 433.94]\n",
      " [460.01 457.9 ]\n",
      " [461.14 460.53]\n",
      " ...\n",
      " [473.26 469.53]\n",
      " [438.   438.27]\n",
      " [463.28 461.66]]\n"
     ]
    },
    {
     "data": {
      "text/plain": [
       "0.9458193819604375"
      ]
     },
     "execution_count": 5,
     "metadata": {},
     "output_type": "execute_result"
    }
   ],
   "source": [
    "# Polynomial Regression\n",
    "pol_reg = PolynomialFeatures(degree=4)\n",
    "X_pol = pol_reg.fit_transform(X_train)\n",
    "lin_reg = LinearRegression()\n",
    "lin_reg.fit(X_pol, y_train)\n",
    "\n",
    "y_pred = lin_reg.predict(pol_reg.transform(X_test))\n",
    "np.set_printoptions(precision=2)\n",
    "print(np.concatenate((y_test.reshape(len(y_test), 1), y_pred.reshape(len(y_pred), 1)), 1))\n",
    "\n",
    "r2_score(y_test, y_pred)"
   ]
  },
  {
   "cell_type": "code",
   "execution_count": 6,
   "id": "3b2bcc6d",
   "metadata": {},
   "outputs": [
    {
     "name": "stdout",
     "output_type": "stream",
     "text": [
      "[[431.23 434.05]\n",
      " [460.01 457.94]\n",
      " [461.14 461.03]\n",
      " ...\n",
      " [473.26 470.6 ]\n",
      " [438.   439.42]\n",
      " [463.28 460.92]]\n"
     ]
    },
    {
     "data": {
      "text/plain": [
       "0.948078404998626"
      ]
     },
     "execution_count": 6,
     "metadata": {},
     "output_type": "execute_result"
    }
   ],
   "source": [
    "# SVR\n",
    "sc_X = StandardScaler()\n",
    "sc_y = StandardScaler()\n",
    "X_sc = sc_X.fit_transform(X_train)\n",
    "y_sc = sc_y.fit_transform(y_train)\n",
    "\n",
    "svr_reg = SVR(kernel=\"rbf\")\n",
    "svr_reg.fit(X_sc, y_sc.ravel())\n",
    "\n",
    "y_pred = sc_y.inverse_transform(svr_reg.predict(sc_X.transform(X_test)).reshape(-1, 1))\n",
    "print(np.concatenate((y_test.reshape(len(y_test), 1), y_pred.reshape(len(y_pred), 1)), 1))\n",
    "\n",
    "r2_score(y_test, y_pred)"
   ]
  },
  {
   "cell_type": "code",
   "execution_count": 7,
   "id": "f471cf0e",
   "metadata": {},
   "outputs": [
    {
     "name": "stdout",
     "output_type": "stream",
     "text": [
      "[[431.23 431.28]\n",
      " [460.01 459.59]\n",
      " [461.14 460.06]\n",
      " ...\n",
      " [473.26 471.46]\n",
      " [438.   437.76]\n",
      " [463.28 462.74]]\n"
     ]
    },
    {
     "data": {
      "text/plain": [
       "0.922905874177941"
      ]
     },
     "execution_count": 7,
     "metadata": {},
     "output_type": "execute_result"
    }
   ],
   "source": [
    "# Decision Tree Regression\n",
    "tree_reg = DecisionTreeRegressor(random_state=0)\n",
    "tree_reg.fit(X_train, y_train)\n",
    "\n",
    "y_pred = tree_reg.predict(X_test)\n",
    "print(np.concatenate((y_test.reshape(len(y_test), 1), y_pred.reshape(len(y_pred), 1)), 1))\n",
    "\n",
    "r2_score(y_test, y_pred)"
   ]
  },
  {
   "cell_type": "code",
   "execution_count": 8,
   "id": "b24cff7f",
   "metadata": {},
   "outputs": [
    {
     "name": "stdout",
     "output_type": "stream",
     "text": [
      "[[431.23 433.64]\n",
      " [460.01 457.71]\n",
      " [461.14 463.41]\n",
      " ...\n",
      " [473.26 468.97]\n",
      " [438.   439.18]\n",
      " [463.28 461.29]]\n"
     ]
    },
    {
     "data": {
      "text/plain": [
       "0.9651050302169809"
      ]
     },
     "execution_count": 8,
     "metadata": {},
     "output_type": "execute_result"
    }
   ],
   "source": [
    "# Random Tree Regression\n",
    "rnd_reg = RandomForestRegressor(random_state=0)\n",
    "rnd_reg.fit(X_train, y_train.ravel())\n",
    "\n",
    "y_pred = rnd_reg.predict(X_test)\n",
    "print(np.concatenate((y_test.reshape(len(y_test), 1), y_pred.reshape(len(y_pred), 1)), 1))\n",
    "\n",
    "r2_score(y_test, y_pred)"
   ]
  }
 ],
 "metadata": {
  "kernelspec": {
   "display_name": "Python 3 (ipykernel)",
   "language": "python",
   "name": "python3"
  },
  "language_info": {
   "codemirror_mode": {
    "name": "ipython",
    "version": 3
   },
   "file_extension": ".py",
   "mimetype": "text/x-python",
   "name": "python",
   "nbconvert_exporter": "python",
   "pygments_lexer": "ipython3",
   "version": "3.10.9"
  }
 },
 "nbformat": 4,
 "nbformat_minor": 5
}
