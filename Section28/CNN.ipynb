{
 "cells": [
  {
   "cell_type": "code",
   "execution_count": 2,
   "id": "bdc390c9-e081-4ff5-a020-75f3d12fbd1f",
   "metadata": {},
   "outputs": [
    {
     "data": {
      "text/plain": [
       "'2.13.0'"
      ]
     },
     "execution_count": 2,
     "metadata": {},
     "output_type": "execute_result"
    }
   ],
   "source": [
    "import numpy as np\n",
    "import tensorflow as tf\n",
    "from keras_preprocessing.image import ImageDataGenerator\n",
    "from keras_preprocessing import image\n",
    "tf.__version__"
   ]
  },
  {
   "cell_type": "code",
   "execution_count": 5,
   "id": "62c3d283-b3e2-4b91-ab03-4a080a32915b",
   "metadata": {},
   "outputs": [
    {
     "name": "stdout",
     "output_type": "stream",
     "text": [
      "Found 8000 images belonging to 2 classes.\n",
      "Found 2000 images belonging to 2 classes.\n"
     ]
    }
   ],
   "source": [
    "training_datagen = ImageDataGenerator(\n",
    "            rescale=1./255,\n",
    "            shear_range=0.2,\n",
    "            zoom_range=0.2,\n",
    "            horizontal_flip=True)\n",
    "\n",
    "training_set = training_datagen.flow_from_directory(\n",
    "            r'C:\\Users\\umut3\\PycharmProjects\\CNN\\dataset\\training_set',\n",
    "            target_size=(64, 64),\n",
    "            batch_size=32,\n",
    "            class_mode='binary')\n",
    "\n",
    "test_datagen = ImageDataGenerator(rescale=1./255)\n",
    "test_set = training_datagen.flow_from_directory(\n",
    "            r'C:\\Users\\umut3\\PycharmProjects\\CNN\\dataset\\test_set',\n",
    "            target_size=(64, 64),\n",
    "            batch_size=32,\n",
    "            class_mode='binary')"
   ]
  },
  {
   "cell_type": "code",
   "execution_count": 6,
   "id": "df1b4e29-4ec8-485e-b669-d30cba807948",
   "metadata": {},
   "outputs": [],
   "source": [
    "cnn = tf.keras.models.Sequential()"
   ]
  },
  {
   "cell_type": "code",
   "execution_count": 7,
   "id": "d957f9f4-06f6-4944-b935-5624f6421c3f",
   "metadata": {},
   "outputs": [],
   "source": [
    "# First layer\n",
    "cnn.add(tf.keras.layers.Conv2D(filters=32, kernel_size=3,activation='relu', input_shape=(64, 64, 3)))\n",
    "cnn.add(tf.keras.layers.MaxPool2D(pool_size=2, strides=2))"
   ]
  },
  {
   "cell_type": "code",
   "execution_count": 8,
   "id": "24e4186e-4b19-41de-b462-5027e40be1a6",
   "metadata": {},
   "outputs": [],
   "source": [
    "# Second layer\n",
    "cnn.add(tf.keras.layers.Conv2D(filters=32, activation='relu', kernel_size=3))\n",
    "cnn.add(tf.keras.layers.MaxPool2D(pool_size=2, strides=2))\n"
   ]
  },
  {
   "cell_type": "code",
   "execution_count": 9,
   "id": "1fc88494-9157-4a25-b5f4-036f038e556c",
   "metadata": {},
   "outputs": [],
   "source": [
    "# Flattening\n",
    "cnn.add(tf.keras.layers.Flatten())"
   ]
  },
  {
   "cell_type": "code",
   "execution_count": 10,
   "id": "d13105be-4a2b-4e86-a7f2-57fdb92d4c6e",
   "metadata": {},
   "outputs": [],
   "source": [
    "# Full connection\n",
    "cnn.add(tf.keras.layers.Dense(units=128, activation='relu'))\n",
    "\n",
    "cnn.add(tf.keras.layers.Dense(units=1, activation='sigmoid'))"
   ]
  },
  {
   "cell_type": "code",
   "execution_count": 11,
   "id": "99d3c39a-d449-41af-8cd9-cc541f719869",
   "metadata": {},
   "outputs": [
    {
     "name": "stdout",
     "output_type": "stream",
     "text": [
      "Epoch 1/25\n",
      "250/250 [==============================] - 34s 134ms/step - loss: 0.6621 - accuracy: 0.5950 - val_loss: 0.5997 - val_accuracy: 0.6885\n",
      "Epoch 2/25\n",
      "250/250 [==============================] - 28s 113ms/step - loss: 0.5999 - accuracy: 0.6758 - val_loss: 0.5707 - val_accuracy: 0.7130\n",
      "Epoch 3/25\n",
      "250/250 [==============================] - 28s 114ms/step - loss: 0.5548 - accuracy: 0.7143 - val_loss: 0.5560 - val_accuracy: 0.7235\n",
      "Epoch 4/25\n",
      "250/250 [==============================] - 28s 113ms/step - loss: 0.5290 - accuracy: 0.7350 - val_loss: 0.5152 - val_accuracy: 0.7495\n",
      "Epoch 5/25\n",
      "250/250 [==============================] - 28s 113ms/step - loss: 0.5054 - accuracy: 0.7527 - val_loss: 0.4968 - val_accuracy: 0.7645\n",
      "Epoch 6/25\n",
      "250/250 [==============================] - 28s 112ms/step - loss: 0.4857 - accuracy: 0.7646 - val_loss: 0.5140 - val_accuracy: 0.7515\n",
      "Epoch 7/25\n",
      "250/250 [==============================] - 28s 113ms/step - loss: 0.4696 - accuracy: 0.7770 - val_loss: 0.4887 - val_accuracy: 0.7675\n",
      "Epoch 8/25\n",
      "250/250 [==============================] - 28s 113ms/step - loss: 0.4600 - accuracy: 0.7794 - val_loss: 0.4865 - val_accuracy: 0.7665\n",
      "Epoch 9/25\n",
      "250/250 [==============================] - 28s 113ms/step - loss: 0.4491 - accuracy: 0.7879 - val_loss: 0.4675 - val_accuracy: 0.7780\n",
      "Epoch 10/25\n",
      "250/250 [==============================] - 31s 123ms/step - loss: 0.4381 - accuracy: 0.7903 - val_loss: 0.4761 - val_accuracy: 0.7755\n",
      "Epoch 11/25\n",
      "250/250 [==============================] - 31s 124ms/step - loss: 0.4322 - accuracy: 0.7975 - val_loss: 0.4588 - val_accuracy: 0.8010\n",
      "Epoch 12/25\n",
      "250/250 [==============================] - 30s 120ms/step - loss: 0.4130 - accuracy: 0.8080 - val_loss: 0.4501 - val_accuracy: 0.7995\n",
      "Epoch 13/25\n",
      "250/250 [==============================] - 30s 120ms/step - loss: 0.4015 - accuracy: 0.8166 - val_loss: 0.4527 - val_accuracy: 0.7860\n",
      "Epoch 14/25\n",
      "250/250 [==============================] - 29s 116ms/step - loss: 0.3917 - accuracy: 0.8183 - val_loss: 0.4447 - val_accuracy: 0.7940\n",
      "Epoch 15/25\n",
      "250/250 [==============================] - 29s 114ms/step - loss: 0.3829 - accuracy: 0.8213 - val_loss: 0.4477 - val_accuracy: 0.7940\n",
      "Epoch 16/25\n",
      "250/250 [==============================] - 28s 113ms/step - loss: 0.3777 - accuracy: 0.8286 - val_loss: 0.4588 - val_accuracy: 0.7985\n",
      "Epoch 17/25\n",
      "250/250 [==============================] - 28s 113ms/step - loss: 0.3646 - accuracy: 0.8332 - val_loss: 0.4252 - val_accuracy: 0.8135\n",
      "Epoch 18/25\n",
      "250/250 [==============================] - 28s 113ms/step - loss: 0.3613 - accuracy: 0.8380 - val_loss: 0.4421 - val_accuracy: 0.7995\n",
      "Epoch 19/25\n",
      "250/250 [==============================] - 28s 113ms/step - loss: 0.3514 - accuracy: 0.8436 - val_loss: 0.4648 - val_accuracy: 0.8025\n",
      "Epoch 20/25\n",
      "250/250 [==============================] - 28s 112ms/step - loss: 0.3323 - accuracy: 0.8503 - val_loss: 0.4336 - val_accuracy: 0.8050\n",
      "Epoch 21/25\n",
      "250/250 [==============================] - 28s 112ms/step - loss: 0.3325 - accuracy: 0.8553 - val_loss: 0.4722 - val_accuracy: 0.7720\n",
      "Epoch 22/25\n",
      "250/250 [==============================] - 813s 3s/step - loss: 0.3254 - accuracy: 0.8577 - val_loss: 0.4424 - val_accuracy: 0.8095\n",
      "Epoch 23/25\n",
      "250/250 [==============================] - 37s 150ms/step - loss: 0.3044 - accuracy: 0.8662 - val_loss: 0.4336 - val_accuracy: 0.8125\n",
      "Epoch 24/25\n",
      "250/250 [==============================] - 30s 121ms/step - loss: 0.3045 - accuracy: 0.8611 - val_loss: 0.4278 - val_accuracy: 0.8190\n",
      "Epoch 25/25\n",
      "250/250 [==============================] - 32s 128ms/step - loss: 0.2929 - accuracy: 0.8720 - val_loss: 0.4661 - val_accuracy: 0.7985\n"
     ]
    },
    {
     "data": {
      "text/plain": [
       "<keras.src.callbacks.History at 0x1ad3381e2d0>"
      ]
     },
     "execution_count": 11,
     "metadata": {},
     "output_type": "execute_result"
    }
   ],
   "source": [
    "# Training the CNN\n",
    "cnn.compile(optimizer='adam', loss='binary_crossentropy', metrics=['accuracy'])\n",
    "\n",
    "cnn.fit(x=training_set, validation_data=test_set, epochs=25)"
   ]
  },
  {
   "cell_type": "code",
   "execution_count": 13,
   "id": "5f77519e-682b-4b53-b181-1c329bec2ecc",
   "metadata": {},
   "outputs": [
    {
     "name": "stdout",
     "output_type": "stream",
     "text": [
      "1/1 [==============================] - 0s 82ms/step\n"
     ]
    },
    {
     "data": {
      "text/plain": [
       "{'cats': 0, 'dogs': 1}"
      ]
     },
     "execution_count": 13,
     "metadata": {},
     "output_type": "execute_result"
    }
   ],
   "source": [
    "# Making a single prediction\n",
    "test_image = image.load_img(r'C:\\Users\\umut3\\PycharmProjects\\CNN\\dataset\\test_set\\dogs\\dog.4005.jpg', target_size=(64, 64))\n",
    "test_image = image.img_to_array(test_image)\n",
    "test_image = test_image/255\n",
    "test_image = np.expand_dims(test_image, axis=0)\n",
    "result = cnn.predict(test_image)\n",
    "training_set.class_indices"
   ]
  },
  {
   "cell_type": "code",
   "execution_count": 14,
   "id": "2fc1a6f9-7c13-4fdf-bee6-7d7ff1302c53",
   "metadata": {},
   "outputs": [
    {
     "name": "stdout",
     "output_type": "stream",
     "text": [
      "dog\n"
     ]
    }
   ],
   "source": [
    "if result[0][0] > 0.5:\n",
    "    prediction = 'dog'\n",
    "else:\n",
    "    prediction = 'cat'\n",
    "\n",
    "print(prediction)"
   ]
  },
  {
   "cell_type": "code",
   "execution_count": 19,
   "id": "2a72da39-feea-488a-9836-a3aa1c2adb4d",
   "metadata": {},
   "outputs": [
    {
     "name": "stdout",
     "output_type": "stream",
     "text": [
      "1/1 [==============================] - 0s 22ms/step\n",
      "cat\n"
     ]
    }
   ],
   "source": [
    "# Making a single prediction 2\n",
    "test_image = image.load_img(r'C:\\Users\\umut3\\PycharmProjects\\CNN\\dataset\\test_set\\cats\\cat.4812.jpg', target_size=(64, 64))\n",
    "test_image = image.img_to_array(test_image)\n",
    "test_image = test_image/255\n",
    "test_image = np.expand_dims(test_image, axis=0)\n",
    "result = cnn.predict(test_image)\n",
    "training_set.class_indices\n",
    "\n",
    "if result[0][0] > 0.5:\n",
    "    prediction = 'dog'\n",
    "else:\n",
    "    prediction = 'cat'\n",
    "\n",
    "print(prediction)"
   ]
  }
 ],
 "metadata": {
  "kernelspec": {
   "display_name": "Python 3 (ipykernel)",
   "language": "python",
   "name": "python3"
  },
  "language_info": {
   "codemirror_mode": {
    "name": "ipython",
    "version": 3
   },
   "file_extension": ".py",
   "mimetype": "text/x-python",
   "name": "python",
   "nbconvert_exporter": "python",
   "pygments_lexer": "ipython3",
   "version": "3.11.5"
  }
 },
 "nbformat": 4,
 "nbformat_minor": 5
}
