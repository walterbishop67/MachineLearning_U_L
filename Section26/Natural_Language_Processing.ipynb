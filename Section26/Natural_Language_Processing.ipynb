{
 "cells": [
  {
   "cell_type": "code",
   "execution_count": 1,
   "id": "1f716952-62ec-4773-bdde-e1637b972c39",
   "metadata": {},
   "outputs": [
    {
     "name": "stderr",
     "output_type": "stream",
     "text": [
      "[nltk_data] Downloading package stopwords to\n",
      "[nltk_data]     C:\\Users\\umut3\\AppData\\Roaming\\nltk_data...\n",
      "[nltk_data]   Package stopwords is already up-to-date!\n"
     ]
    },
    {
     "data": {
      "text/plain": [
       "True"
      ]
     },
     "execution_count": 1,
     "metadata": {},
     "output_type": "execute_result"
    }
   ],
   "source": [
    "import numpy as np\n",
    "import pandas as pd\n",
    "import re\n",
    "import nltk\n",
    "from nltk.corpus import stopwords\n",
    "from nltk.stem.porter import PorterStemmer\n",
    "import matplotlib.pyplot as plt\n",
    "from sklearn.feature_extraction.text import CountVectorizer\n",
    "from sklearn.model_selection import train_test_split\n",
    "from sklearn.metrics import accuracy_score, confusion_matrix, precision_score, recall_score, f1_score\n",
    "\n",
    "from sklearn.naive_bayes import GaussianNB\n",
    "from sklearn.ensemble import RandomForestClassifier\n",
    "from sklearn.tree import DecisionTreeClassifier\n",
    "from sklearn.svm import SVC\n",
    "from sklearn.neighbors import KNeighborsClassifier\n",
    "from sklearn.linear_model import LogisticRegression\n",
    "\n",
    "df = pd.read_csv(r'C:\\Users\\umut3\\PycharmProjects\\pythonProject\\Restaurant_Reviews.tsv', delimiter='\\t', quoting=3)\n",
    "\n",
    "nltk.download('stopwords')"
   ]
  },
  {
   "cell_type": "code",
   "execution_count": 4,
   "id": "7f285e1d-1077-4789-ad6b-af18f907a415",
   "metadata": {},
   "outputs": [],
   "source": [
    "# Helper method\n",
    "def metrics(y_test, y_pred, model_name):\n",
    "    data = pd.DataFrame([[accuracy_score(y_test, y_pred), precision_score(y_test, y_pred),\n",
    "                         recall_score(y_test, y_pred), f1_score(y_test, y_pred)]],index=[model_name],\n",
    "                        columns=[\"accuracy_score\", \"precision_score\", \"recall_score\", \"f1_score\"])\n",
    "    print(data)"
   ]
  },
  {
   "cell_type": "code",
   "execution_count": 5,
   "id": "6e3e3496-4564-45cf-b560-b0c3d9611fbc",
   "metadata": {},
   "outputs": [],
   "source": [
    "corpus = []\n",
    "\n",
    "for i in range(0, 1000):\n",
    "    review = re.sub('[^a-zA-Z]', ' ', df['Review'][i])\n",
    "    review = review.lower().split()\n",
    "    ps = PorterStemmer()\n",
    "    all_stopwords = stopwords.words('english')\n",
    "    for w in ['not', \"isn't\", \"don't\", \"doesn't\", \"wouldn't\", \"aren't\", \"didn't\", \"couldn't\", \"wasn't\", 'no', \"won't\"]:\n",
    "        all_stopwords.remove(w)\n",
    "    review = [ps.stem(word) for word in review if not word in set(all_stopwords)]\n",
    "    review = ' '.join(review)\n",
    "    corpus.append(review)\n",
    "\n",
    "cv = CountVectorizer(max_features=1530)\n",
    "X = cv.fit_transform(corpus).toarray()\n",
    "y = df.iloc[:, -1].values\n",
    "\n",
    "\n",
    "X_train, X_test, y_train, y_test = train_test_split(X, y, test_size=.2, random_state=0)"
   ]
  },
  {
   "cell_type": "code",
   "execution_count": 6,
   "id": "92084f57-1498-4ab7-8315-6862a00ff40e",
   "metadata": {},
   "outputs": [
    {
     "name": "stdout",
     "output_type": "stream",
     "text": [
      "     accuracy_score  precision_score  recall_score  f1_score\n",
      "SVM           0.815          0.84375      0.786408   0.81407\n"
     ]
    }
   ],
   "source": [
    "classifier = SVC(kernel='linear', random_state=0)\n",
    "classifier.fit(X_train, y_train.ravel())\n",
    "y_pred = classifier.predict(X_test)\n",
    "metrics(y_test, y_pred, \"SVM\")"
   ]
  },
  {
   "cell_type": "code",
   "execution_count": 7,
   "id": "60b46c3b-f232-43ea-83d0-d49c9afa4c5d",
   "metadata": {},
   "outputs": [
    {
     "name": "stdout",
     "output_type": "stream",
     "text": [
      "                        accuracy_score  precision_score  recall_score  \\\n",
      "RandomForestClassifier            0.78          0.90411      0.640777   \n",
      "\n",
      "                        f1_score  \n",
      "RandomForestClassifier      0.75  \n"
     ]
    }
   ],
   "source": [
    "classifier = RandomForestClassifier(n_estimators=10, criterion=\"entropy\", random_state=0)\n",
    "classifier.fit(X_train, y_train.ravel())\n",
    "y_pred = classifier.predict(X_test)\n",
    "metrics(y_test, y_pred, \"RandomForestClassifier\")"
   ]
  },
  {
   "cell_type": "code",
   "execution_count": null,
   "id": "cf8732c9-31f8-40e8-89be-907275ecf130",
   "metadata": {},
   "outputs": [],
   "source": [
    "classifier = DecisionTreeClassifier(criterion=\"entropy\", random_state=0)\n",
    "classifier.fit(X_train, y_train.ravel())\n",
    "y_pred = classifier.predict(X_test)\n",
    "metrics(y_test, y_pred, \"DecisionTreeClassifier\")"
   ]
  }
 ],
 "metadata": {
  "kernelspec": {
   "display_name": "Python 3 (ipykernel)",
   "language": "python",
   "name": "python3"
  },
  "language_info": {
   "codemirror_mode": {
    "name": "ipython",
    "version": 3
   },
   "file_extension": ".py",
   "mimetype": "text/x-python",
   "name": "python",
   "nbconvert_exporter": "python",
   "pygments_lexer": "ipython3",
   "version": "3.11.5"
  }
 },
 "nbformat": 4,
 "nbformat_minor": 5
}
